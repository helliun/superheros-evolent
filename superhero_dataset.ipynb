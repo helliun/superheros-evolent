{
 "cells": [
  {
   "cell_type": "code",
   "execution_count": null,
   "metadata": {},
   "outputs": [],
   "source": [
    "!pip install -r requirements.txt -q"
   ]
  },
  {
   "cell_type": "code",
   "execution_count": 2,
   "metadata": {},
   "outputs": [
    {
     "name": "stderr",
     "output_type": "stream",
     "text": [
      "/home/heleon/.local/lib/python3.10/site-packages/tqdm/auto.py:21: TqdmWarning: IProgress not found. Please update jupyter and ipywidgets. See https://ipywidgets.readthedocs.io/en/stable/user_install.html\n",
      "  from .autonotebook import tqdm as notebook_tqdm\n",
      "2023-11-07 07:20:26.042671: I tensorflow/core/platform/cpu_feature_guard.cc:182] This TensorFlow binary is optimized to use available CPU instructions in performance-critical operations.\n",
      "To enable the following instructions: AVX2 FMA, in other operations, rebuild TensorFlow with the appropriate compiler flags.\n",
      "2023-11-07 07:20:29.419811: W tensorflow/compiler/tf2tensorrt/utils/py_utils.cc:38] TF-TRT Warning: Could not find TensorRT\n"
     ]
    }
   ],
   "source": [
    "import opendatasets as od\n",
    "import pandas as pd\n",
    "import numpy as np\n",
    "from transformers import pipeline\n",
    "import nltk\n",
    "import collections\n",
    "from IPython.display import Image, display\n",
    "from tqdm import tqdm"
   ]
  },
  {
   "cell_type": "code",
   "execution_count": 3,
   "metadata": {},
   "outputs": [
    {
     "name": "stdout",
     "output_type": "stream",
     "text": [
      "Skipping, found downloaded files in \"./superheroes-nlp-dataset\" (use force=True to force download)\n"
     ]
    }
   ],
   "source": [
    "# Loading dataset\n",
    "# Must create a kaggle account and auth token here: https://www.kaggle.com/settings/account\n",
    "od.download(\"https://www.kaggle.com/datasets/jonathanbesomi/superheroes-nlp-dataset\")\n",
    "df = pd.read_csv('superheroes-nlp-dataset/superheroes_nlp_dataset.csv')"
   ]
  },
  {
   "cell_type": "markdown",
   "metadata": {},
   "source": [
    "## Question 1: \n",
    "### How would you define the most powerful superhero from the information available in dataset?"
   ]
  },
  {
   "cell_type": "code",
   "execution_count": 65,
   "metadata": {},
   "outputs": [
    {
     "name": "stdout",
     "output_type": "stream",
     "text": [
      "Most Powerful Superhero (overall score): 3-D Man\n",
      "  - Tied for first: Agent Zero (FOX), Ajax, Alien, Amanda Waller, Anacondrai Serpent, Annabeth Chase (FOX), Archangel, Ariel, Armor, Artemis (CW), Batgirl IV, Batgirl VI, Batman (1966), Beast Boy, Big Man, Bill Harken, Black Canary, Black Cat, Black Knight III, Black Lightning (CW), Blade, Blob (FOX), Bloodhawk, Brundlefly, Buffy, Callisto, Captain Boomerang (CW), Captain Boomerang (DCEU), Captain Metropolis, Captain Soto, Catwoman, Changeling, Chuck Norris, Claire Bennet, Clock King, Colossus (FOX), Crystal, Dagger, Darkhawk, Deadshot (CW), Deadshot (New 52), Destroyer (MCU), Doubloon, Dove (Titans), Echo Zane, Elektra (MCU), Elektra, Ethan Hunt, Evilhawk, Fandral (MCU), Fangtom, Firelord, Firestar, Gambit, Gary Bell, Green Arrow (Injustice), Gypsy (CW), Happy Hogan, Havok, Hawkwoman III, Hellcat, Huntress (Injustice), Iceman (FOX), Indiana Jones, James T. Kirk, Jesse Custer, Jessica Jones, Jigsaw (MCU), Joe Wilson (CW), John Pilgrim (MCU), Jonah Hex (CW), Junkpile, Kapau, Katana, Kathryn Janeway, Kid Flash (CW), Kilgrave (MCU), Killow, Kingpin, Klaw (MCU), Korg (MCU), Krypto, Lady Deathstrike, Lance Hunter (MCU), Littlefinger, Livewire (CW), Lizard, Luke Cage, Machine Man, Magog, Mammoth, Man-Wolf, Matt Parkman, Maverick, Medusa (MCU), Micah Sanders, Molten Man, Morlun, Multiple Man, Namora, Namorita, Nick Fury, Nightwing (New 52), Niki Sanders, Nina Theroux, Nite Owl II, Nite Owl, Northstar, Nuckal, Nyssa Al Ghul (CW), Omega Red, Plantman, Proxima Midnight (MCU), Punisher, Purple Man, Ragman (CW), Red Skull, Robin II, Robin V, Rocket, Rorschach, Sabretooth, Sage, Sai, Shadow Lass, Shatterstar, Sonya Blade, Spartan, Spider-Man (Raimi Trilogy), Spider-Woman, Star-Lord, Starling, Steel Serpent, Stephanie Powell, Stick (MCU), Talia Al Ghul (CW), The False Mandarin, The Green Hornet, The Thing (FOX), The Wasp, Tigra, Toad (FOX), Tobias Church (CW), Triplicate Girl, Triton, Two-Face, Typhoid Mary, Ultragirl, Ursa Major, Venom II, Ventriloquist, Vibe, Vigilante, Violet Parr, Volstagg (MCU), Vulture, Weather Wizard (CW), Wendigo, White Wolf (MCU), Wild Dog, Winter Soldier\n"
     ]
    }
   ],
   "source": [
    "# Sort rows by overall score of Superhero\n",
    "most_powerful_superhero = df.sort_values(by=\"overall_score\", ascending=False)[\"name\"][0]\n",
    "print(f\"Most Powerful Superhero (overall score): {most_powerful_superhero}\")\n",
    "\n",
    "# Get their score and find others who share it\n",
    "best_score = df.sort_values(by=\"overall_score\", ascending=False)[\"overall_score\"][0]\n",
    "tied_first = df[df[\"overall_score\"]==best_score][\"name\"].tolist()\n",
    "tied_first.remove(most_powerful_superhero)\n",
    "if tied_first != []:\n",
    "    print(f\"  - Tied for first: {', '.join(tied_first)}\")"
   ]
  },
  {
   "cell_type": "markdown",
   "metadata": {},
   "source": [
    "### Who is the most powerful superhero of each creator?"
   ]
  },
  {
   "cell_type": "code",
   "execution_count": 70,
   "metadata": {},
   "outputs": [
    {
     "name": "stdout",
     "output_type": "stream",
     "text": [
      "Most Powerful Superheros (overall score):\n",
      "- Marvel Comics: Living Tribunal\n",
      " - Tied for first: Abraxas, Beyonder, The Beyonder (Earth-1298), The One Below All, True Form Oblivion\n",
      "- DC Comics: Death Of The Endless\n",
      " - Tied for first: Black Alice, Life Entity, Michael Demiurgos, Spectre Oversoul\n",
      "- George Lucas: Darth Nihilus\n",
      "- Dark Horse Comics: Johann Krauss\n",
      " - Tied for first: Angel, T-850\n",
      "- Blizzard Entertainment: A'dal\n",
      "- NBC - Heroes: Adam Monroe\n",
      "- Lego: Ronin (Ninjago)\n",
      " - Tied for first: GPL, Nya (The LEGO Ninjago Movie)\n",
      "- Wildstorm: Allan Quatermain\n",
      " - Tied for first: Sam Winchester\n",
      "- Ubisoft: Altaïr Ibn-La'Ahad\n",
      " - Tied for first: Desmond Miles, Edward Kenway, Ezio Auditore da Firenze\n",
      "- J. R. R. Tolkien: Eru Iluvatar\n",
      "- Image Comics: Man Of Miracles\n",
      "- George R. R. Martin: The Lord Of Light\n",
      "- Capcom: Asura\n",
      "- Icon Comics: Hit-Girl\n",
      "- SyFy: Bill Harken\n",
      " - Tied for first: Gary Bell, Nina Theroux\n",
      "- Hanna-Barbera: Birdman\n",
      "- Hasbro: Bumblebee\n",
      "- Clive Barker: Pinhead\n",
      "- Team Epic TV: Captain Epic\n",
      " - Tied for first: Chromos, Little Epic, Master Brood, Omniscient, Valerie Hart\n",
      "- South Park: Captain Hindsight\n",
      "- Shueisha: Hinata Hyūga\n",
      "- Namco: Deacons Of The Deep\n",
      "- HarperCollins: Colin Wagner\n",
      " - Tied for first: Danny Cooper, Energy, Quantum, Renata Soliz, Titan\n",
      "- ABC Studios: JJ Powell\n",
      "- Universal Studios: Darkman\n",
      "- Star Trek: Spock\n",
      "- J. K. Rowling: Professor Dumbledore\n",
      "- Konami: Dracula\n",
      "- Sony Pictures: Spider-Man (Raimi Trilogy)\n",
      "- Stephen King: IT\n",
      "- Dreamworks: Jack Frost\n",
      "- Disney: Jack Sparrow\n",
      "- Ian Fleming: James Bond (Craig)\n",
      "- Nintendo: Link\n",
      "- Microsoft: Master Chief\n",
      "- Cartoon Network: Morty Smith\n",
      "- Mortal Kombat: Shao Kahn\n",
      "- IDW Publishing: Storm Shadow\n",
      "- Mattel: Skeletor\n",
      "- Sega: Sonic The Hedgehog\n",
      "- Matt Groening: Superking\n"
     ]
    }
   ],
   "source": [
    "print(\"Most Powerful Superheros (overall score):\")\n",
    "creators = df[\"creator\"].unique()\n",
    "creators = [str(creator)for creator in creators  if str(creator) != \"nan\" ]\n",
    "\n",
    "# Loop through creators and sort rows with that creator by overall score of superhero\n",
    "for creator in creators:\n",
    "    creator_df = df[df[\"creator\"] == creator]\n",
    "    most_powerful_superhero = creator_df.sort_values(by=\"overall_score\", ascending=False)[\"name\"].tolist()[0]\n",
    "    print(f\"- {creator}: {most_powerful_superhero}\")\n",
    "\n",
    "    # Repeat the code for finding ties\n",
    "    best_score = creator_df.sort_values(by=\"overall_score\", ascending=False)[\"overall_score\"].tolist()[0]\n",
    "    tied_first = creator_df[creator_df[\"overall_score\"]==best_score][\"name\"].tolist()\n",
    "    tied_first.remove(most_powerful_superhero)\n",
    "    if tied_first != []:\n",
    "        print(f\" - Tied for first: {', '.join(tied_first)}\")"
   ]
  },
  {
   "cell_type": "markdown",
   "metadata": {},
   "source": [
    "## Question 2: \n",
    "### Find the top 5 superpowers in descending order."
   ]
  },
  {
   "cell_type": "code",
   "execution_count": 64,
   "metadata": {},
   "outputs": [
    {
     "name": "stdout",
     "output_type": "stream",
     "text": [
      "Top 5 Most Common Superpowers:\n",
      "- has_agility\n",
      "- has_stamina\n",
      "- has_super_strength\n",
      "- has_durability\n",
      "- has_intelligence\n"
     ]
    }
   ],
   "source": [
    "# Define superpowers as the \"has\" characteristics\n",
    "superpowers = df[[col for col in df.columns if \"has_\" in col]]\n",
    "\n",
    "# Sort characteristics by sum of their occurences\n",
    "top_5_superpowers = superpowers.sum().sort_values(ascending=False).head(5).keys()\n",
    "print(\"Top 5 Most Common Superpowers:\\n- \"+'\\n- '.join(top_5_superpowers))"
   ]
  },
  {
   "cell_type": "markdown",
   "metadata": {},
   "source": [
    "## Question 3: \n",
    "### Which race has the most immortal superheroes?"
   ]
  },
  {
   "cell_type": "code",
   "execution_count": 11,
   "metadata": {},
   "outputs": [
    {
     "name": "stdout",
     "output_type": "stream",
     "text": [
      "Most Immortal Race: God / Eternal\n"
     ]
    }
   ],
   "source": [
    "# Find only rows with immortality and sort races by their value counts \n",
    "most_immortal_race = df[df['has_immortality']==True]['type_race'].value_counts().idxmax()\n",
    "print(f\"Most Immortal Race: {most_immortal_race}\")"
   ]
  },
  {
   "cell_type": "markdown",
   "metadata": {},
   "source": [
    "## Question 4: \n",
    "### Name the creator having most superheroes of type “Parademon”."
   ]
  },
  {
   "cell_type": "code",
   "execution_count": 12,
   "metadata": {},
   "outputs": [
    {
     "name": "stdout",
     "output_type": "stream",
     "text": [
      "Creator with most Parademons: DC Comics\n"
     ]
    }
   ],
   "source": [
    "# Find only rows with Parademons and sort creators by their value counts \n",
    "creator_max_parademon = df[df['type_race']=='Parademon']['creator'].value_counts().idxmax()\n",
    "print(f\"Creator with most Parademons: {creator_max_parademon}\")"
   ]
  },
  {
   "cell_type": "markdown",
   "metadata": {},
   "source": [
    "## Question 5: \n",
    "### Which comic creator has the most superhero teams?"
   ]
  },
  {
   "cell_type": "code",
   "execution_count": 13,
   "metadata": {},
   "outputs": [
    {
     "name": "stdout",
     "output_type": "stream",
     "text": [
      "Creator with the most teams: Marvel Comics (165 teams)\n"
     ]
    }
   ],
   "source": [
    "creators = df[\"creator\"].unique()\n",
    "creators = [str(creator)for creator in creators  if str(creator) != \"nan\" ]\n",
    "num_teams = []\n",
    "creator_teams = []\n",
    "\n",
    "# Loop through creators\n",
    "for creator in creators:\n",
    "    all_teams = []\n",
    "\n",
    "    # Add teams from each row to all teams list\n",
    "    for teams in df[df[\"creator\"]==creator][\"teams\"]:\n",
    "        all_teams.extend(eval(teams))\n",
    "\n",
    "    # Find all unique teams\n",
    "    all_teams = list(set(all_teams))\n",
    "    num_teams.append(len(all_teams))\n",
    "    creator_teams.append(all_teams)\n",
    "\n",
    "# Find creator with most unique teams\n",
    "creator_most_teams = creators[np.argmax(num_teams)]\n",
    "max_teams = max(num_teams)\n",
    "print(f\"Creator with the most teams: {creator_most_teams} ({max_teams} teams)\")"
   ]
  },
  {
   "cell_type": "markdown",
   "metadata": {},
   "source": [
    "### Find names, real names and alias of superhero who is part of most teams."
   ]
  },
  {
   "cell_type": "code",
   "execution_count": 14,
   "metadata": {},
   "outputs": [
    {
     "name": "stdout",
     "output_type": "stream",
     "text": [
      "Superhero on the most teams:\n",
      "- Name: 3-D Man\n",
      "- Real name: Delroy Garrett, Jr.\n",
      "- Aliases:\n"
     ]
    }
   ],
   "source": [
    "# Create a column that is equal to the length of the team list of that row\n",
    "df[\"num_teams\"] = [len(eval(team_list)) for team_list in df['teams'].tolist()]\n",
    "\n",
    "# Sort and find the name, real name, and aliases of the superhero on the most teams\n",
    "name = df.sort_values(by=\"num_teams\", ascending=False)[\"name\"][0]\n",
    "real_name = df.sort_values(by=\"num_teams\", ascending=False)[\"real_name\"][0]\n",
    "aliases = eval(df.sort_values(by=\"num_teams\", ascending=False)[\"aliases\"][0])\n",
    "print(f\"Superhero on the most teams:\\n- Name: {name}\\n- Real name: {real_name}\\n- Aliases:{' '.join(aliases)}\")"
   ]
  },
  {
   "cell_type": "markdown",
   "metadata": {},
   "source": [
    "### Are there any crossovers between creators and teams?"
   ]
  },
  {
   "cell_type": "code",
   "execution_count": 15,
   "metadata": {},
   "outputs": [
    {
     "name": "stdout",
     "output_type": "stream",
     "text": [
      "Marvel Comics shares team members with DC Comics\n",
      "Dark Horse Comics shares team members with Disney\n"
     ]
    }
   ],
   "source": [
    "found_pairs = []\n",
    "\n",
    "# Loop through all combinations of creator's teams and check to see\n",
    "# if they share any members\n",
    "for i in range(len(creator_teams)):\n",
    "    for j in range(len(creator_teams)):\n",
    "        num_overlaps = len(list(set(creator_teams[i]).intersection(set(creator_teams[j]))))\n",
    "\n",
    "        # Print out shared members unless the pair has already been printed\n",
    "        if num_overlaps != 0 and i!=j and not any([pair in found_pairs for pair in [(j,i),(i,j)]]):\n",
    "            print(f\"{creators[i]} shares team members with {creators[j]}\")\n",
    "            found_pairs.append((i,j))"
   ]
  },
  {
   "cell_type": "markdown",
   "metadata": {},
   "source": [
    "## Question 6\n",
    "### What are the characteristics that can predict a superhero alignment?"
   ]
  },
  {
   "cell_type": "code",
   "execution_count": 71,
   "metadata": {},
   "outputs": [
    {
     "name": "stdout",
     "output_type": "stream",
     "text": [
      "If a superhero has flight, they are 57.45% likely to be good.\n",
      "If a superhero has telepathy, they are 56.38% likely to be good.\n",
      "If a superhero has stealth, they are 56.21% likely to be good.\n",
      "\n",
      "If a superhero has reality warping, they are 46.15% likely to be bad.\n",
      "If a superhero has mind control, they are 45.61% likely to be bad.\n",
      "If a superhero has telekinesis, they are 41.55% likely to be bad.\n",
      "\n",
      "If a superhero has reality warping, they are 18.46% likely to be neutral.\n",
      "If a superhero has self-sustenance, they are 17.65% likely to be neutral.\n",
      "If a superhero has illusions, they are 17.6% likely to be neutral.\n",
      "\n"
     ]
    }
   ],
   "source": [
    "alignments = df[\"alignment\"].unique()\n",
    "alignments = [str(alignment)for alignment in alignments  if str(alignment) != \"nan\" ]\n",
    "\n",
    "characteristics = [column for column in df.columns if \"has\" in column]\n",
    "alignment_dict = {}\n",
    "\n",
    "# Loop through all alignments\n",
    "for alignment in alignments:\n",
    "    aligned_df = df[df[\"alignment\"]==alignment]\n",
    "    alignment_dict[alignment] = {}\n",
    "\n",
    "    # Loop through characteristics\n",
    "    for characteristic in characteristics:\n",
    "        # Find the proportion of characters with that characteristics who \n",
    "        # have the given alignment\n",
    "        total = df[characteristic].sum()\n",
    "        num_true = aligned_df[characteristic].sum()\n",
    "        proportion_true = num_true/total * 100\n",
    "        alignment_dict[alignment][characteristic] = proportion_true\n",
    "\n",
    "n = 3 \n",
    "\n",
    "# For each alignment, print the characteristic that has the highest proportion\n",
    "for alignment in alignment_dict:\n",
    "    sorted_characteristics = sorted(alignment_dict[alignment].items(), key=lambda kv: kv[1], reverse=True)\n",
    "    top_characteristics = sorted_characteristics[:n]\n",
    "    for characteristic, proportion in top_characteristics:\n",
    "        print(f\"If a superhero {characteristic.replace('_',' ')}, they are {round(proportion,2)}% likely to be {str(alignment).lower()}.\")\n",
    "    print()"
   ]
  },
  {
   "cell_type": "markdown",
   "metadata": {},
   "source": [
    "## Question 7\n",
    "### From history of superheroes,\n",
    "a). Find list of superheroes having negative past but now aligned positively.\n",
    "(Negativity of past can be decided by multiple methods, please use which is\n",
    "familiar to you)"
   ]
  },
  {
   "cell_type": "code",
   "execution_count": 17,
   "metadata": {},
   "outputs": [
    {
     "name": "stderr",
     "output_type": "stream",
     "text": [
      "/tmp/ipykernel_32430/3511450926.py:2: UserWarning: Boolean Series key will be reindexed to match DataFrame index.\n",
      "  good_df = df[df[\"history_text\"].notna()][~df[\"history_text\"].isin([\"History unknown.\",\"Unknown\"])][df.alignment==\"Good\"]\n",
      "/tmp/ipykernel_32430/3511450926.py:2: UserWarning: Boolean Series key will be reindexed to match DataFrame index.\n",
      "  good_df = df[df[\"history_text\"].notna()][~df[\"history_text\"].isin([\"History unknown.\",\"Unknown\"])][df.alignment==\"Good\"]\n",
      "Xformers is not installed correctly. If you want to use memory_efficient_attention to accelerate training use the following command to install Xformers\n",
      "pip install xformers.\n"
     ]
    }
   ],
   "source": [
    "# Find all heroes with valid histories and good alignment\n",
    "good_df = df[df[\"history_text\"].notna()][~df[\"history_text\"].isin([\"History unknown.\",\"Unknown\"])][df.alignment==\"Good\"]\n",
    "\n",
    "# Shortening df because I'm not connected to a GPU\n",
    "good_df = good_df[:200]\n",
    "\n",
    "# Set up sentiment analysis pipeline from huggingface\n",
    "pipe = pipeline(\"text-classification\", model=\"nlptown/bert-base-multilingual-uncased-sentiment\")\n",
    "tokenizer_kwargs = {'padding':True,'truncation':True,'max_length':512}"
   ]
  },
  {
   "cell_type": "code",
   "execution_count": 18,
   "metadata": {},
   "outputs": [],
   "source": [
    "# Run inference on the histories\n",
    "histories = good_df[\"history_text\"].tolist()\n",
    "results = pipe(histories, **tokenizer_kwargs)\n",
    "sentiment_labels = [r[\"label\"] for r in results]\n",
    "good_df[\"history_sentiment\"] = sentiment_labels"
   ]
  },
  {
   "cell_type": "code",
   "execution_count": 19,
   "metadata": {},
   "outputs": [
    {
     "name": "stdout",
     "output_type": "stream",
     "text": [
      "These heroes overcame their negative pasts: Chuck Norris\n"
     ]
    }
   ],
   "source": [
    "# Find heroes who had negative pasts\n",
    "neg_labels = [\"1 star\", \"2 stars\"]\n",
    "overcame_adversity = good_df[good_df.history_sentiment.isin(neg_labels)][\"name\"].tolist()\n",
    "print(f\"These heroes overcame their negative pasts: {', '.join(overcame_adversity)}\")"
   ]
  },
  {
   "cell_type": "markdown",
   "metadata": {},
   "source": [
    "b). Extract patterns from superhero history for each creator."
   ]
  },
  {
   "cell_type": "code",
   "execution_count": 20,
   "metadata": {},
   "outputs": [
    {
     "data": {
      "text/plain": [
       "[(('.', 'During', 'this', 'time', ','), 42),\n",
       " (('.', 'As', 'a', 'result', ','), 30),\n",
       " (('and', 'the', 'rest', 'of', 'the'), 26)]"
      ]
     },
     "execution_count": 20,
     "metadata": {},
     "output_type": "execute_result"
    }
   ],
   "source": [
    "# Define function for finding ngram counts of a requested length using nltk\n",
    "def find_patterns(histories, num_results, ngrams=5):\n",
    "    all_histories = ' '.join(histories)\n",
    "    words = nltk.word_tokenize(all_histories)\n",
    "    patterns = nltk.ngrams(words, ngrams)\n",
    "    pattern_frequency = collections.Counter(patterns)\n",
    "    return pattern_frequency.most_common(n)\n",
    "\n",
    "creators = df[\"creator\"].unique()\n",
    "creators = [str(creator)for creator in creators  if str(creator) != \"nan\" ]\n",
    "pattern_dict = {}\n",
    "\n",
    "# Loop through creators and find the top 3 ngrams of the default length 5\n",
    "for creator in creators:\n",
    "    creator_df = df[df[\"history_text\"].notna() & ~(df[\"history_text\"].isin([\"History unknown.\",\"Unknown\"])) & (df.creator==creator)]\n",
    "    histories = creator_df[\"history_text\"]\n",
    "    patterns = find_patterns(histories, 3)\n",
    "    pattern_dict[creator] = patterns\n",
    "\n",
    "# Here is an example of the patterns for Marvel\n",
    "pattern_dict[\"Marvel Comics\"]"
   ]
  },
  {
   "cell_type": "markdown",
   "metadata": {},
   "source": [
    "## Question 8\n",
    "### Report on the 10 superheroes with most relatives, status of those relatives where possible, and the alignment of those superheroes."
   ]
  },
  {
   "cell_type": "code",
   "execution_count": 21,
   "metadata": {},
   "outputs": [],
   "source": [
    "# Create python lists out of the strings of relatives\n",
    "relatives = [str(string).split(\", \") for string in df[\"relatives\"].tolist()]\n",
    "df[\"relatives\"] = relatives\n",
    "\n",
    "# Create a column for the lengths fo the relative lists to determine\n",
    "# number of relatives\n",
    "df[\"num_relatives\"] = [len(r) for r in relatives]\n",
    "\n",
    "# Sort by num_relatives and find the names of superheros with the most\n",
    "# relatives\n",
    "most_relatives = df.sort_values(by=\"num_relatives\", ascending=False)[\"name\"][:10]"
   ]
  },
  {
   "cell_type": "code",
   "execution_count": 74,
   "metadata": {},
   "outputs": [
    {
     "name": "stdout",
     "output_type": "stream",
     "text": [
      "Namor's relatives: Elanna, Tanas, Zartra, Orrek, Stegor, Kamuu, Harran, Kalen, Ossem, Balaal, Thallo, Immanu, deceased, Thakorr, deceased, Korra, Wa-Korr, presumed deceased, Wathan, presumed deceased, Tom Smallwood, Gladys Smallwood, Zarina, Namora's father, Daka, Brynn, Fen, deceased, Leonard McKenzie, deceased, Experiment N2, Lawrence McKenzie, Dorma, deceased, Marrina, three unnamed children, Kamar, deceased, Black Moray, Llyron McKenzie, Dan Smallwood, Namora, Beemer, Bobo, Byrrahna, Namita, Daro, Dara, Seth, Argus, Arkus, Byrrah, Namorita\n",
      "- Namora (maternal cousin)\n",
      "  - Status: Namora is biologically half Atlantean and half human with a mutant X-Gene.\n",
      "  - Alignment: Good\n",
      "- Namorita (maternal 1st cousin once removed).\n",
      "  - Status: Namorita possesses superhuman strength, speed, durability, agility, and reflexes; she can lift up to 75 tons underwater, although prolonged surface activity can reduce her strength to 33% or lower.\n",
      "  - Alignment: Good\n",
      "\n",
      "Havok's relatives: Oscar Summers, deceased, Daniel Summers, deceased, Amanda Mueller, unnamed paternal great-grandfathe, decease, Gloria Dayne, Philip Summers, Deborah Summers, Christopher Summers, deceased, Katherine Summers, deceased, Andrew Blanding, Joanna Blanding, Scott Summers, Gabriel Summers, deceased, Ahmet Abdol, Haley Blanding, Todd Blanding, deceased, Madelyne Pryor-Summers, deceased, Jean Grey-Summers, deceased, Cal'syee Neramani, Nathan Summers, Adam Neramani, alleged half-brother, Aliya Dayspring, deceased, Hope Summers, deceased, Madelyne Pryor, Scott Summers, Rachel Grey, Rachel Summers, deceased, Nathaniel Grey, Stryfe, deceased, Tyler Dayspring, deceased, Hope Summers, Janet van Dyne, Katie Summers\n",
      "- Hope Summers (niece\n",
      "  - Status: Hope Summers is a omega level mutant born with the powers of Empathic Power Mimicry.\n",
      "  - Alignment: Good\n",
      "- Hope Summers (adoptive great-niece)\n",
      "  - Status: Hope Summers is a omega level mutant born with the powers of Empathic Power Mimicry.\n",
      "  - Alignment: Good\n",
      "\n",
      "Aquaman's relatives: Koryak, Arthur Curr, Jr., A.J., Orm Marius, Debbie Perkins, Drin, Atlanna, Atlan, Atlena, Porm, Tom Curry, Mera, Hila, Haumond, Kraken, Honsu, Lorelei, Manu, Nala, Fatima, Kalunga, Gana, Fiona, Regin, Kordax, Bazil, Cora, Illya, Dardanus, Alloroc, Cole, Narmea, Orin, Loma, Shalako, Thorvall\n",
      "- Mera (wife)\n",
      "  - Status:   Though not overtly visible, Mera possesses a set of gills, which allows her to extract oxygen from the surrounding environment enabling her to breathe underwater.\n",
      "  - Alignment: Good\n",
      "- Lorelei (grandmother)\n",
      "  - Status: \n",
      "  - Alignment: Bad\n",
      "- Cole (ancestor)\n",
      "  - Status: Cole commands the element of Earth, giving him great physical strength and durability.\n",
      "  - Alignment: nan\n",
      "\n",
      "Supergirl's relatives: Zor-El, Allura In-Ze, Jor-El II, deceased, Lara Lor-Van, deceased, Kal-El, cousin, Lois Lane, Jonathan Kent, Martha Kent, Kon-El, Conner Ken, clone cousi, deceased, Nim-El, Dondra Klu-Ta, Don-El, Jor-El I, deceased, Nimda An-Dor, deceased, Lar-Van, deceased, Lara Rok-Var, deceased, Val-E, Sul-E, Tala-E, Hatu-E, Gam-El, deceased\n",
      "\n",
      "Toxin's relatives: Carl Brock, estranged, Janine Brock, deceased, Mary Brock, Ann Weying, deceased, Symbiotes' relatives: Anti-Venom Symbiote, uncle and former brothe, deceased, Venom Symbiote, grandfathe, former brother, Agon, Phag, Rio, Lasher, former sons, Scorn, former niece, Carnage, former son, Scream, former daughte, deceased, Hybrid, former so, deceased\n",
      "- Hybrid (uncle\n",
      "  - Status:  As a result of physically bonding with the composite Symbiotes, Washington possesses various superhuman attributes similar to Peter Parker and Eddie Brock (Venom).\n",
      "  - Alignment: Good\n",
      "\n",
      "Colossus's relatives: Grigory Efimovich Rasputin, deceased, Elena, deceased, Ivan Rasputin, deceased, Grigory Rasputin, deceased, Nikolai Rasputin, deceased, Alexandra Rasputina, deceased, Vladimir Rasputin, deceased, unidentified aunt & uncle, Illyana Nikolievna Rasputina, siste, deceased, Mikhail Rasputin, Peter Jr., Larissa Mishchenko, deceased, Konstantin, deceased, Klara, deceased, Dimitriy, deceased)\n",
      "\n",
      "Anti-Venom's relatives: Carl Brock, estranged, Janine Brock, deceased, Mary Brock, Ann Weying, deceased, Symbiotes' relatives: Toxin Symbiote, former grandson, Venom Symbiote, grandfathe, former brother, Agon, Phag, Rio, Lasher, former sons, Scorn, former niece, Carnage, former son, Scream, former daughte, deceased, Hybrid, former so, deceased\n",
      "- Hybrid (uncle\n",
      "  - Status:  As a result of physically bonding with the composite Symbiotes, Washington possesses various superhuman attributes similar to Peter Parker and Eddie Brock (Venom).\n",
      "  - Alignment: Good\n",
      "\n",
      "Cable's relatives: Scott Summers, father, Madelyne Pryor-Summers, mothe, deceased, Jean Grey, stepmother, Alexander Summers, uncle, Christopher Summers, paternal grandfather, Katherine Anne Summers, deceased, Philip Summers, Deborah Summers, Jenskot, wif, deceased, Tyler, so, deceased, Stryfe, deceased, Gabriel Summers, uncle\n",
      "- Jean Grey (Phoenix\n",
      "  - Status:  Jean Grey has been stated to be an Omega Level Mutant.\n",
      "  - Alignment: Good\n",
      "\n",
      "Crimson Crusader's relatives: Adam Destine, unnamed genie, Albert Destine, Samantha Destine, sister, William Destine, brother, Kay Cera, sister, Florence Destine, deceased, Gracie Destine, deceased, Dominic Destine, brother, Pandora Destine, sister, Maurice Destine, deceased, Newton Destine, Vincent Destine, deceased, Walter Destine, brother)\n",
      "\n",
      "Corsair's relatives: Philip Summers, Deborah Summers, Katherine Anne Summers, deceased, Hepzibah, Scott Summers, son, Alexander Summers, son, Gabriel Summers, son, Madelyne Pryor-Summers, deceased, Jean Grey-Summers, daughter-in-law, Nathan Christopher Summers, grandson, Stryfe, deceased, Tyler Dayspring, great-grandso, deceased, Rachel Grey, alternate timeline granddaughter\n",
      "- Hepzibah (mate)\n",
      "  - Status: Hepzibah is a Mesphistoid, a catlike species long dominated by the avian Shi'ar.\n",
      "  - Alignment: Good\n",
      "\n"
     ]
    }
   ],
   "source": [
    "# Loop through the heroes with the top 10 most relatives\n",
    "for hero in most_relatives:\n",
    "    # Find the names of all their relatives by cleaning the strings\n",
    "    relatives = df[df[\"name\"]==hero][\"relatives\"].tolist()[0]\n",
    "    names = [relative[:relative.find(\"(\")].strip() for relative in relatives]\n",
    "\n",
    "    # Print a list of all of the names\n",
    "    print(f\"{hero}'s relatives: {', '.join(names)}\")\n",
    "\n",
    "    # Loop through all names (with and without the relation included)\n",
    "    for relative, name in zip(relatives, names):\n",
    "\n",
    "        # Display information found about names if available\n",
    "        if name in df[\"name\"].tolist():\n",
    "            report = f\"- {relative}\"\n",
    "            status = str(df[df[\"name\"]==name][\"powers_text\"].tolist()[0])\n",
    "            status = status[:status.find(\".\")+1]\n",
    "            report += f\"\\n  - Status: {status}\"\n",
    "            alignment = str(df[df[\"name\"]==name][\"alignment\"].tolist()[0])\n",
    "            report += f\"\\n  - Alignment: {alignment}\"\n",
    "            print(report)\n",
    "    print()            "
   ]
  },
  {
   "cell_type": "markdown",
   "metadata": {},
   "source": [
    "## Question 9\n",
    "### Find out any other interesting insights from the given data."
   ]
  },
  {
   "cell_type": "code",
   "execution_count": 24,
   "metadata": {},
   "outputs": [],
   "source": [
    "# Create a list of all unique teams\n",
    "teams = [eval(list) for list in df[\"teams\"].tolist()]\n",
    "all_teams = []\n",
    "for team_list in teams:\n",
    "    all_teams.extend(team_list)\n",
    "all_teams = list(set(all_teams))\n",
    "\n",
    "team_to_members = {}\n",
    "members_to_teams = {}\n",
    "\n",
    "# Create a dictionary linking the team members to all their teams\n",
    "for team in all_teams:\n",
    "    member_df = df[df[\"teams\"].str.contains(team)]\n",
    "    members = member_df[\"name\"].tolist()\n",
    "    team_to_members[team] = members\n",
    "    for member in members:\n",
    "        try:\n",
    "            members_to_teams[member].append(team)\n",
    "        except:\n",
    "            members_to_teams[member] = [team]\n"
   ]
  },
  {
   "cell_type": "code",
   "execution_count": 26,
   "metadata": {},
   "outputs": [
    {
     "name": "stderr",
     "output_type": "stream",
     "text": [
      "  0%|          | 0/550 [00:00<?, ?it/s]"
     ]
    },
    {
     "name": "stderr",
     "output_type": "stream",
     "text": [
      "100%|██████████| 550/550 [12:11<00:00,  1.33s/it]\n"
     ]
    }
   ],
   "source": [
    "# Define a function for finding nth degree connections between team members\n",
    "# where a 1st degree direct connection is if they've worked on a team \n",
    "# together, a 2nd degree is if they've worked with the same person, and so on\n",
    "def connections_loop(member, n):\n",
    "    visited = [] \n",
    "    queue = [(member, 0)]\n",
    "\n",
    "    while queue:\n",
    "        current_member, degree = queue.pop(0)\n",
    "\n",
    "        if degree > n:\n",
    "            break\n",
    "\n",
    "        if current_member not in visited:\n",
    "            visited.append(current_member)\n",
    "\n",
    "            for team in members_to_teams[current_member]:\n",
    "                for next_member in team_to_members[team]:\n",
    "                    queue.append((next_member, degree + 1))\n",
    "\n",
    "    n_degree_connections = [m for m in visited if m != member]\n",
    "\n",
    "    return n_degree_connections\n",
    "\n",
    "# Define a wrapper for the previous function so that it only includes nth degree connections\n",
    "# and no connections of a degree less than n\n",
    "def find_connections(member, n):\n",
    "    return list(set(connections_loop(member, n))-set(connections_loop(member, n-1)))\n",
    "\n",
    "# Find the farthest connections for each hero\n",
    "biggest_links = {}\n",
    "for member in tqdm(members_to_teams.keys()):\n",
    "    farthest_link = 1\n",
    "    results = find_connections(member, 1)\n",
    "    while results != []:\n",
    "        results = find_connections(member, farthest_link)\n",
    "        if results != []:\n",
    "            farthest_link += 1\n",
    "        else:\n",
    "            biggest_links[member] = farthest_link\n",
    "    "
   ]
  },
  {
   "cell_type": "code",
   "execution_count": 44,
   "metadata": {},
   "outputs": [
    {
     "name": "stdout",
     "output_type": "stream",
     "text": [
      "Rick Flag from DC Comics has a 7th degree connection with Percy Jackson from nan\n"
     ]
    }
   ],
   "source": [
    "members = []\n",
    "link_lengths = []\n",
    "\n",
    "for member, link_length in biggest_links.items():\n",
    "    members.append(member)\n",
    "    link_lengths.append(link_length)\n",
    "\n",
    "# Find the heroes with the farthest connection and share info\n",
    "member_farthest_connection = members[np.argmax(link_lengths)]\n",
    "farthest_connection = link_lengths[np.argmax(link_lengths)]\n",
    "\n",
    "connection = find_connections(member_farthest_connection, farthest_connection-1)[0]\n",
    "\n",
    "# This connection is interesting, because Percy Jackson isn't usually considered a superhero,\n",
    "# yet he is technically part of the DC Universe\n",
    "print(f\"{member_farthest_connection} from {df[df['name']==member_farthest_connection]['creator'].tolist()[0]} has a {farthest_connection-1}th degree connection with {connection} from {df[df['name']==connection]['creator'].tolist()[0]}\")\n"
   ]
  },
  {
   "cell_type": "markdown",
   "metadata": {},
   "source": [
    "### Which 3 comic characters can you recommend to your friends to read or watch?"
   ]
  },
  {
   "cell_type": "code",
   "execution_count": null,
   "metadata": {},
   "outputs": [],
   "source": [
    "!pip install perspectives==1.0.8 -q"
   ]
  },
  {
   "cell_type": "code",
   "execution_count": null,
   "metadata": {},
   "outputs": [],
   "source": [
    "import perspectives as ps\n",
    "\n",
    "# Perspecives is a python library that I made which allows semantic search over pandas dataframes\n",
    "# It is much faster on GPUs\n",
    "search_df = df[[\"name\", \"occupation\"]]\n",
    "search_df[\"occupation\"] = [str(o) for o in search_df[\"occupation\"].tolist()]\n",
    "perspectives_df = ps.DataFrame(search_df)"
   ]
  },
  {
   "cell_type": "code",
   "execution_count": 101,
   "metadata": {},
   "outputs": [
    {
     "name": "stderr",
     "output_type": "stream",
     "text": [
      "/home/heleon/.local/lib/python3.10/site-packages/perspectives/DataFrame.py:111: UserWarning: Pandas doesn't allow columns to be created via a new attribute name - see https://pandas.pydata.org/pandas-docs/stable/indexing.html#attribute-access\n",
      "  setattr(self, key + \"_embs\", self._embmodel.encode(self[key].tolist()))\n"
     ]
    },
    {
     "data": {
      "text/html": [
       "<div>\n",
       "<style scoped>\n",
       "    .dataframe tbody tr th:only-of-type {\n",
       "        vertical-align: middle;\n",
       "    }\n",
       "\n",
       "    .dataframe tbody tr th {\n",
       "        vertical-align: top;\n",
       "    }\n",
       "\n",
       "    .dataframe thead th {\n",
       "        text-align: right;\n",
       "    }\n",
       "</style>\n",
       "<table border=\"1\" class=\"dataframe\">\n",
       "  <thead>\n",
       "    <tr style=\"text-align: right;\">\n",
       "      <th></th>\n",
       "      <th>name</th>\n",
       "      <th>occupation</th>\n",
       "      <th>text</th>\n",
       "    </tr>\n",
       "  </thead>\n",
       "  <tbody>\n",
       "    <tr>\n",
       "      <th>0</th>\n",
       "      <td>Black Cat (Earth 65)</td>\n",
       "      <td>Musician, thief</td>\n",
       "      <td>None</td>\n",
       "    </tr>\n",
       "    <tr>\n",
       "      <th>1</th>\n",
       "      <td>The Crow</td>\n",
       "      <td>Heavy Metal Guitarist</td>\n",
       "      <td>None</td>\n",
       "    </tr>\n",
       "    <tr>\n",
       "      <th>2</th>\n",
       "      <td>Red Arrow</td>\n",
       "      <td>Adventurer; intelligence agent; musician</td>\n",
       "      <td>None</td>\n",
       "    </tr>\n",
       "    <tr>\n",
       "      <th>3</th>\n",
       "      <td>Herald</td>\n",
       "      <td>Adventurer, Composer</td>\n",
       "      <td>None</td>\n",
       "    </tr>\n",
       "    <tr>\n",
       "      <th>4</th>\n",
       "      <td>Pied Piper (CW)</td>\n",
       "      <td>Physicist</td>\n",
       "      <td>None</td>\n",
       "    </tr>\n",
       "  </tbody>\n",
       "</table>\n",
       "</div>"
      ],
      "text/plain": [
       "                   name                                occupation  text\n",
       "0  Black Cat (Earth 65)                           Musician, thief  None\n",
       "1              The Crow                     Heavy Metal Guitarist  None\n",
       "2             Red Arrow  Adventurer; intelligence agent; musician  None\n",
       "3                Herald                      Adventurer, Composer  None\n",
       "4       Pied Piper (CW)                                 Physicist  None"
      ]
     },
     "execution_count": 101,
     "metadata": {},
     "output_type": "execute_result"
    }
   ],
   "source": [
    "# My friends really like music, so I did a semantic for heroes who are musicians\n",
    "perspectives_df.search(occupation=\"Musician\").head()"
   ]
  },
  {
   "cell_type": "code",
   "execution_count": 105,
   "metadata": {},
   "outputs": [
    {
     "data": {
      "text/html": [
       "<div>\n",
       "<style scoped>\n",
       "    .dataframe tbody tr th:only-of-type {\n",
       "        vertical-align: middle;\n",
       "    }\n",
       "\n",
       "    .dataframe tbody tr th {\n",
       "        vertical-align: top;\n",
       "    }\n",
       "\n",
       "    .dataframe thead th {\n",
       "        text-align: right;\n",
       "    }\n",
       "</style>\n",
       "<table border=\"1\" class=\"dataframe\">\n",
       "  <thead>\n",
       "    <tr style=\"text-align: right;\">\n",
       "      <th></th>\n",
       "      <th>name</th>\n",
       "      <th>occupation</th>\n",
       "      <th>text</th>\n",
       "    </tr>\n",
       "  </thead>\n",
       "  <tbody>\n",
       "    <tr>\n",
       "      <th>0</th>\n",
       "      <td>Bookworm</td>\n",
       "      <td>Teacher</td>\n",
       "      <td>None</td>\n",
       "    </tr>\n",
       "    <tr>\n",
       "      <th>1</th>\n",
       "      <td>Wolfsbane</td>\n",
       "      <td>Teacher</td>\n",
       "      <td>None</td>\n",
       "    </tr>\n",
       "    <tr>\n",
       "      <th>2</th>\n",
       "      <td>Tom Corsi</td>\n",
       "      <td>Teacher; formerly police officer</td>\n",
       "      <td>None</td>\n",
       "    </tr>\n",
       "    <tr>\n",
       "      <th>3</th>\n",
       "      <td>Black Lightning (CW)</td>\n",
       "      <td>Teacher, Vigilante</td>\n",
       "      <td>None</td>\n",
       "    </tr>\n",
       "    <tr>\n",
       "      <th>4</th>\n",
       "      <td>Static</td>\n",
       "      <td>Student</td>\n",
       "      <td>None</td>\n",
       "    </tr>\n",
       "  </tbody>\n",
       "</table>\n",
       "</div>"
      ],
      "text/plain": [
       "                   name                        occupation  text\n",
       "0              Bookworm                           Teacher  None\n",
       "1             Wolfsbane                           Teacher  None\n",
       "2             Tom Corsi  Teacher; formerly police officer  None\n",
       "3  Black Lightning (CW)                Teacher, Vigilante  None\n",
       "4                Static                           Student  None"
      ]
     },
     "execution_count": 105,
     "metadata": {},
     "output_type": "execute_result"
    }
   ],
   "source": [
    "# My brother is a teacher, so I did a semantic for heroes who are teachers\n",
    "perspectives_df.search(occupation=\"teacher\").head()"
   ]
  },
  {
   "cell_type": "code",
   "execution_count": 108,
   "metadata": {},
   "outputs": [
    {
     "data": {
      "text/html": [
       "<div>\n",
       "<style scoped>\n",
       "    .dataframe tbody tr th:only-of-type {\n",
       "        vertical-align: middle;\n",
       "    }\n",
       "\n",
       "    .dataframe tbody tr th {\n",
       "        vertical-align: top;\n",
       "    }\n",
       "\n",
       "    .dataframe thead th {\n",
       "        text-align: right;\n",
       "    }\n",
       "</style>\n",
       "<table border=\"1\" class=\"dataframe\">\n",
       "  <thead>\n",
       "    <tr style=\"text-align: right;\">\n",
       "      <th></th>\n",
       "      <th>name</th>\n",
       "      <th>occupation</th>\n",
       "      <th>text</th>\n",
       "    </tr>\n",
       "  </thead>\n",
       "  <tbody>\n",
       "    <tr>\n",
       "      <th>0</th>\n",
       "      <td>Morty Smith</td>\n",
       "      <td>Student, Space Adventurer</td>\n",
       "      <td>None</td>\n",
       "    </tr>\n",
       "    <tr>\n",
       "      <th>1</th>\n",
       "      <td>Doomguy</td>\n",
       "      <td>US Space Marine Captain</td>\n",
       "      <td>None</td>\n",
       "    </tr>\n",
       "    <tr>\n",
       "      <th>2</th>\n",
       "      <td>Doom Slayer</td>\n",
       "      <td>US Space Marine Captain</td>\n",
       "      <td>None</td>\n",
       "    </tr>\n",
       "    <tr>\n",
       "      <th>3</th>\n",
       "      <td>Cosmo The Spacedog</td>\n",
       "      <td>Astronaut, liason for the new Guardians of the...</td>\n",
       "      <td>None</td>\n",
       "    </tr>\n",
       "    <tr>\n",
       "      <th>4</th>\n",
       "      <td>Darkman</td>\n",
       "      <td>Scientist</td>\n",
       "      <td>None</td>\n",
       "    </tr>\n",
       "  </tbody>\n",
       "</table>\n",
       "</div>"
      ],
      "text/plain": [
       "                 name                                         occupation  text\n",
       "0         Morty Smith                          Student, Space Adventurer  None\n",
       "1             Doomguy                            US Space Marine Captain  None\n",
       "2         Doom Slayer                            US Space Marine Captain  None\n",
       "3  Cosmo The Spacedog  Astronaut, liason for the new Guardians of the...  None\n",
       "4             Darkman                                          Scientist  None"
      ]
     },
     "execution_count": 108,
     "metadata": {},
     "output_type": "execute_result"
    }
   ],
   "source": [
    "# My little brother wants to be an astronaut, so I did a semantic for heroes who work in space\n",
    "perspectives_df.search(occupation=\"astronaut\").head()"
   ]
  }
 ],
 "metadata": {
  "kernelspec": {
   "display_name": "Python 3",
   "language": "python",
   "name": "python3"
  },
  "language_info": {
   "codemirror_mode": {
    "name": "ipython",
    "version": 3
   },
   "file_extension": ".py",
   "mimetype": "text/x-python",
   "name": "python",
   "nbconvert_exporter": "python",
   "pygments_lexer": "ipython3",
   "version": "3.10.12"
  }
 },
 "nbformat": 4,
 "nbformat_minor": 2
}
